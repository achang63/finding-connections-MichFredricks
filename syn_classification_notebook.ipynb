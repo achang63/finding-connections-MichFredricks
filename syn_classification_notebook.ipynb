{
 "cells": [
  {
   "cell_type": "code",
   "execution_count": 1,
   "metadata": {
    "collapsed": true
   },
   "outputs": [],
   "source": [
    "# Synapse Classification Challenge\n",
    "# Introduction to Connectomics 2017\n",
    "# Mich Fredricks (your name here)\n",
    "\n",
    "your_name = 'Fredricks_Mich'"
   ]
  },
  {
   "cell_type": "code",
   "execution_count": 2,
   "metadata": {
    "collapsed": true
   },
   "outputs": [],
   "source": [
    "# Load data\n",
    "\n",
    "import numpy as np\n",
    "\n",
    "data = np.load('./synchallenge2017_training.npz')\n",
    "\n",
    "imtrain = data['imtrain']\n",
    "annotrain = data['annotrain']\n",
    "ytrain = data['ytrain']\n",
    "\n",
    "data = np.load('./synchallenge2017_validation.npz')\n",
    "\n",
    "imvalid = data['imvalid']\n",
    "annovalid = data['annovalid']\n",
    "yvalid = data['yvalid']"
   ]
  },
  {
   "cell_type": "code",
   "execution_count": 12,
   "metadata": {
    "collapsed": false
   },
   "outputs": [],
   "source": [
    "# Define feature extraction code\n",
    "\n",
    "import skimage.feature as skif\n",
    "\n",
    "def extract_features(imdata):\n",
    "    xtrain = []\n",
    "    for im in imdata:\n",
    "        fvector = []\n",
    "        # 50th percentile based on intensity\n",
    "        fvector.append(np.percentile(im,50))\n",
    "        \n",
    "        # Standard deviation feature\n",
    "        fvector.append(np.std(im))\n",
    "\n",
    "        # add a contrast feature\n",
    "        g = skif.greycomatrix(im, [1, 2], [0, np.pi/2],normed=True, symmetric=True)\n",
    "        homogeneity = skif.greycoprops(g, 'homogeneity')\n",
    "\n",
    "        # explict way to add feature elements one at a time\n",
    "        homogeneity = np.ravel(homogeneity)\n",
    "        for i in homogeneity:\n",
    "            fvector.append(i)\n",
    "            \n",
    "        hess = skif.hessian_matrix(im)\n",
    "        hess = np.ravel(hess)\n",
    "        for i in hess:\n",
    "            fvector.append(i)\n",
    "            \n",
    "        hog = skif.hog(im)\n",
    "        hog = np.ravel(hog)\n",
    "        for i in hog:\n",
    "            fvector.append(i)\n",
    "\n",
    "        fvector = np.asarray(fvector)\n",
    "        xtrain.append(fvector)\n",
    "\n",
    "    return np.asarray(xtrain)"
   ]
  },
  {
   "cell_type": "code",
   "execution_count": null,
   "metadata": {
    "collapsed": false
   },
   "outputs": [],
   "source": [
    "# Extract Features from training\n",
    "\n",
    "xtrain = extract_features(imtrain)\n",
    "# Train Classifier\n",
    "\n",
    "from sklearn.ensemble import RandomForestClassifier\n",
    "clf = RandomForestClassifier(n_estimators=200)\n",
    "clf = clf.fit(xtrain, ytrain)\n"
   ]
  },
  {
   "cell_type": "code",
   "execution_count": null,
   "metadata": {
    "collapsed": false
   },
   "outputs": [],
   "source": [
    "# Extract features from validation set\n",
    "xvalid = extract_features(imvalid)\n"
   ]
  },
  {
   "cell_type": "code",
   "execution_count": null,
   "metadata": {
    "collapsed": false
   },
   "outputs": [],
   "source": [
    "# Run Classifier on validation set\n",
    "scoresvalid = clf.predict_proba(xvalid)"
   ]
  },
  {
   "cell_type": "code",
   "execution_count": null,
   "metadata": {
    "collapsed": false
   },
   "outputs": [],
   "source": [
    "# Best f1 score report on validation set\n",
    "\n",
    "from sklearn.metrics import f1_score\n",
    "\n",
    "# Can add post-processing here if desired\n",
    "\n",
    "prob_syn = scoresvalid[:,1]\n",
    "\n",
    "# default threshold\n",
    "print('default f1 score: {}').format(np.round(f1_score(yvalid, prob_syn >=0.5),2))\n",
    "\n",
    "f1_out = 0\n",
    "thresh = 0\n",
    "for i in np.arange(0.0, 1, 0.05):\n",
    "    f1_test =  f1_score(yvalid, prob_syn > i)\n",
    "    if f1_test > f1_out:\n",
    "        f1_out = f1_test\n",
    "        thresh = i\n",
    "\n",
    "print('My best validation f1-score is: {} at {} threshold.'.format(np.round(f1_out,2), thresh))"
   ]
  },
  {
   "cell_type": "code",
   "execution_count": null,
   "metadata": {
    "collapsed": false
   },
   "outputs": [],
   "source": [
    "# here we can inspect results\n",
    "\n",
    "valid_labels = np.asarray(prob_syn > thresh,dtype='int')\n",
    "# find images we did well on\n",
    "idx_correct_syn = np.where((valid_labels == yvalid) & (yvalid == 1))[0]\n",
    "idx_correct_nosyn = np.where((valid_labels == yvalid) & (yvalid == 0))[0]\n",
    "# find images we did poorly on\n",
    "\n",
    "idx_wrong_syn = np.where((valid_labels != yvalid) & (yvalid == 1))[0]\n",
    "idx_wrong_nosyn = np.where((valid_labels != yvalid) & (yvalid == 0))[0]\n",
    "import ndparse as ndp\n",
    "\n",
    "print('synapse present - true positive')\n",
    "ndp.plot(imvalid[idx_correct_syn[3]])\n",
    "\n",
    "print('no synapse present - true negative')\n",
    "ndp.plot(imvalid[idx_correct_nosyn[3]])\n",
    "\n",
    "print('synapse present - false negative')\n",
    "ndp.plot(imvalid[idx_wrong_syn[3]])\n",
    "\n",
    "print('no synapse present - false positive')\n",
    "ndp.plot(imvalid[idx_wrong_nosyn[3]])"
   ]
  },
  {
   "cell_type": "code",
   "execution_count": null,
   "metadata": {
    "collapsed": false
   },
   "outputs": [],
   "source": [
    "# Validate performance on test set (should only run/score once!)\n",
    "\n",
    "data = np.load('./synchallenge2017_test_notruth.npz')\n",
    "\n",
    "imtest = data['imtest']\n",
    "annotest = data['annotest']\n",
    "\n",
    "# Extract features from test set\n",
    "xtest = extract_features(imtest)\n",
    "\n",
    "# Run classifier on test set\n",
    "scoretest = clf.predict_proba(xvalid)\n",
    "\n",
    "# Post-processing\n",
    "prob_syntest = scoretest[:,1]\n",
    "syntest_predict = prob_syntest > thresh\n",
    "syntest_predict = np.asarray(syntest_predict,dtype = 'uint8')\n",
    "\n",
    "# save file and upload to google docs with label vector\n",
    "np.save(your_name+'_synchallenge_testdata.npy',syntest_predict)"
   ]
  }
 ],
 "metadata": {
  "kernelspec": {
   "display_name": "Python 2",
   "language": "python",
   "name": "python2"
  },
  "language_info": {
   "codemirror_mode": {
    "name": "ipython",
    "version": 2
   },
   "file_extension": ".py",
   "mimetype": "text/x-python",
   "name": "python",
   "nbconvert_exporter": "python",
   "pygments_lexer": "ipython2",
   "version": "2.7.6"
  }
 },
 "nbformat": 4,
 "nbformat_minor": 2
}
